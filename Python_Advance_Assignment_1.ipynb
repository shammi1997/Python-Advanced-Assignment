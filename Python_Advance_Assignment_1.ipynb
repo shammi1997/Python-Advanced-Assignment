{
  "nbformat": 4,
  "nbformat_minor": 0,
  "metadata": {
    "colab": {
      "provenance": []
    },
    "kernelspec": {
      "name": "python3",
      "display_name": "Python 3"
    },
    "language_info": {
      "name": "python"
    }
  },
  "cells": [
    {
      "cell_type": "code",
      "execution_count": null,
      "metadata": {
        "id": "jb-g3SCwU_be"
      },
      "outputs": [],
      "source": [
        "Q1. What is the purpose of Python's OOP?\n",
        "\n",
        "\n",
        "Ans: Object-oriented programming is a programming paradigm that provides a means of structuring programs so that properties and behaviors are bundled into individual objects\n",
        "\n",
        "1. In Python, object-oriented Programming (OOPs) uses objects and classes in programming.\n",
        "2. It aims to implement real-world entities like inheritance, polymorphisms, encapsulation, etc. in the programming.\n",
        "3. The main concept of OOPs is to bind the data and the functions that work on that together as a single unit so that no other part of the code can access this data.\n",
        "4. It comes up with the following advantages:\n",
        "5. It helps to divide our over all program into different small segments and thus making it solving easy with the use of objects\n",
        "6. Helps in easy maintenance and modification of existing program\n",
        "7. Multiple instances of an object can be made."
      ]
    },
    {
      "cell_type": "code",
      "source": [
        "Q2. Where does an inheritance search look for an attribute?\n",
        "\n",
        "Ans: Python searches for an attribute in an upward tree of attributes. it first searches for the attribute in its instance and then looks in the class it is generated from,\n",
        "to all super classes listed in its class header"
      ],
      "metadata": {
        "id": "sMwMdVoTYuU5"
      },
      "execution_count": null,
      "outputs": []
    },
    {
      "cell_type": "code",
      "source": [
        "Q3. How do you distinguish between a class object and an instance object?\n",
        "\n",
        "Ans: The differences between a class object and an instance object are:\n",
        "\n",
        "1. Class is a template for creating objects whereas object is an instance of class\n",
        "2. Seperate memory is allocated for each object whenever an object is created. but for a class this doesnot happens.\n",
        "3. A Class is created once. Many objects are created using a class.\n",
        "4. As Classes have no allocated memory. they can't be manipulated. but objects can be manipulated."
      ],
      "metadata": {
        "id": "UakfJov1ZE8V"
      },
      "execution_count": null,
      "outputs": []
    },
    {
      "cell_type": "code",
      "source": [
        "Q4. What makes the first argument in a class’s method function special?\n",
        "\n",
        "Ans: Python Classes usually have three types of methods which are:\n",
        "\n",
        "1. Instance Methods (object level methods)\n",
        "2. Class Methods (class level methods)\n",
        "3. Static Methods (general utility methods)\n",
        "4. self is the first argument for instance methods. which refers to the object itself\n",
        "5. cls is the first argument for class methods which refers to the class itself"
      ],
      "metadata": {
        "id": "PvwNb_X6ZRZ1"
      },
      "execution_count": null,
      "outputs": []
    },
    {
      "cell_type": "code",
      "source": [
        "Q5. What is the purpose of the init method?\n",
        "\n",
        "Ans: __init__ is a reseved method in python classes. It serves the role of a constructor in object oriented terminology.\n",
        "This method is called when an object is created from a class and it allows the class to initialize the attributes of the class"
      ],
      "metadata": {
        "id": "DtE-eK3gZeHu"
      },
      "execution_count": null,
      "outputs": []
    },
    {
      "cell_type": "code",
      "source": [
        "Q6. What is the process for creating a class instance?\n",
        "\n",
        "Ans: To create a class instance, we need to call the class by its name and pass the arguments to the class, which its init method accepts.\n",
        "\n",
        "Example: my_name = my_class(\"Mano\",\"vishnu\") Here my_name is an instance of class my_class with attributes \"Mano\" and \"Vishnu\"."
      ],
      "metadata": {
        "id": "o8R1uV5xZmOG"
      },
      "execution_count": null,
      "outputs": []
    },
    {
      "cell_type": "code",
      "source": [
        "Q7. What is the process for creating a class?\n",
        "\n",
        "Ans: class keyword is used to created a class in python. The syntax to create a class in python is class <classname>:\n",
        "\n",
        "Example: class Car: ➞ this creates a class called Car"
      ],
      "metadata": {
        "id": "qUJG2QfjZq-O"
      },
      "execution_count": null,
      "outputs": []
    },
    {
      "cell_type": "code",
      "source": [
        "Q8. How would you define the superclasses of a class?\n",
        "\n",
        "Ans Superclass/Parent class is given as a arugment to the child class\n",
        "\n",
        "Example: class Employee(Person): Here child class Employee inherits attributes and methofs from Superclass/Parent Person"
      ],
      "metadata": {
        "id": "ow_oHkOmZvZn"
      },
      "execution_count": null,
      "outputs": []
    }
  ]
}