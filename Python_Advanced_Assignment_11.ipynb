{
  "nbformat": 4,
  "nbformat_minor": 0,
  "metadata": {
    "colab": {
      "provenance": []
    },
    "kernelspec": {
      "name": "python3",
      "display_name": "Python 3"
    },
    "language_info": {
      "name": "python"
    }
  },
  "cells": [
    {
      "cell_type": "code",
      "execution_count": null,
      "metadata": {
        "id": "TG48mTgGjb5E"
      },
      "outputs": [],
      "source": [
        "Q1. What is the concept of a metaclass?\n",
        "Ans: Metaclass in Python is a class of a class that defines how a class behaves. A class is itself a instance of Metaclass, and any Instance of Class in Python is an Instance of type metaclass. E.g. Type of of int, str, float, list, tuple and many more is of metaclass type."
      ]
    },
    {
      "cell_type": "code",
      "source": [
        "Q2. What is the best way to declare a class's metaclass?\n",
        "Ans: A way to declare a class’ metaclass is by using metaclass keyword in class definition."
      ],
      "metadata": {
        "id": "p4xA_hr6jpnG"
      },
      "execution_count": null,
      "outputs": []
    },
    {
      "cell_type": "code",
      "source": [
        "class meta(type):\n",
        "    pass\n",
        "class class_meta(metaclass=meta):\n",
        "    pass\n",
        "print(type(meta))\n",
        "print(type(class_meta))"
      ],
      "metadata": {
        "colab": {
          "base_uri": "https://localhost:8080/"
        },
        "id": "ndTsk_lEjshX",
        "outputId": "a86590ad-f21c-4130-a5cc-4fcb68331fb7"
      },
      "execution_count": 1,
      "outputs": [
        {
          "output_type": "stream",
          "name": "stdout",
          "text": [
            "<class 'type'>\n",
            "<class '__main__.meta'>\n"
          ]
        }
      ]
    },
    {
      "cell_type": "code",
      "source": [
        "Q3. How do class decorators overlap with metaclasses for handling classes ?\n",
        "Ans: Anything you can do with a class decorator, you can of course do with a custom metaclasses (just apply the functionality of the \"decorator function\", i.e.,\n",
        "the one that takes a class object and modifies it, in the course of the metaclass's __new__ or __init__ that make the class object!)."
      ],
      "metadata": {
        "id": "DdkTtb_djv1-"
      },
      "execution_count": null,
      "outputs": []
    },
    {
      "cell_type": "code",
      "source": [
        "Q4. How do class decorators overlap with metaclasses for handling instances?\n",
        "Ans: Anything you can do with a class decorator, you can of course do with a custom metaclass (just apply the functionality of the \"decorator function\", i.e.,\n",
        "the one that takes a class object and modifies it, in the course of the metaclass's __new__ or __init__ that make the class object!)."
      ],
      "metadata": {
        "id": "3R8oonsEjzK3"
      },
      "execution_count": null,
      "outputs": []
    }
  ]
}