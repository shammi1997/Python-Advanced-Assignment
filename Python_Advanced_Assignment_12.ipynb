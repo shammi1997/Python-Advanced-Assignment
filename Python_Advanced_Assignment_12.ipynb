{
  "nbformat": 4,
  "nbformat_minor": 0,
  "metadata": {
    "colab": {
      "provenance": []
    },
    "kernelspec": {
      "name": "python3",
      "display_name": "Python 3"
    },
    "language_info": {
      "name": "python"
    }
  },
  "cells": [
    {
      "cell_type": "code",
      "execution_count": null,
      "metadata": {
        "id": "PYYuVG_0ugQ9"
      },
      "outputs": [],
      "source": [
        "Q1. Does assigning a value to a string's indexed character violate Python's string immutability ?\n",
        "Ans: String’s indexed character cannot to be assigned a New value , as Strings are immutable.\n",
        "Example:\n",
        "name = \"Reinforcement\"\n",
        "print(id(name)) #73472\n",
        "name[0] = \"V\" # Raises TypeError"
      ]
    },
    {
      "cell_type": "code",
      "source": [
        "Q2. Does using the += operator to concatenate strings violate Python's string immutability? Why or why not ?\n",
        "Ans: += operator is used to concatenate strings, it does not violate Python’s string immutability Property.\n",
        "Because doing so new creates a new association with data and variable. E.g. str_1=\"a\" and str_1+=\"b. effect of this statements to create string ab and reassign\n",
        "it to variable str_1, any string data is not actually modified."
      ],
      "metadata": {
        "id": "VXmMs3CCu6_u"
      },
      "execution_count": null,
      "outputs": []
    },
    {
      "cell_type": "code",
      "source": [
        "str_1 = 'a'\n",
        "print(id(str_1))\n",
        "str_1 += 'b'\n",
        "print(id(str_1)) # Does not Modify existing string, Creates a New String Object"
      ],
      "metadata": {
        "colab": {
          "base_uri": "https://localhost:8080/"
        },
        "id": "RzlboOqXvGUW",
        "outputId": "fb8cce3d-a07a-4d96-fc8f-80332d03b67c"
      },
      "execution_count": 1,
      "outputs": [
        {
          "output_type": "stream",
          "name": "stdout",
          "text": [
            "135187878936368\n",
            "135187330486640\n"
          ]
        }
      ]
    },
    {
      "cell_type": "code",
      "source": [
        "Q3. In Python, how many different ways are there to index a character?\n",
        "Ans: A Character in string can be indexed using string name followed by index number of character in square bracket. Positive Indexing\n",
        "i.e. first index is 0 an so on, or Negative Indexing i.e. last letter is -1 and so on can be used to index a character"
      ],
      "metadata": {
        "id": "zNCh6VzivMR8"
      },
      "execution_count": null,
      "outputs": []
    },
    {
      "cell_type": "code",
      "source": [
        "in_string = \"iNeuron Full Stack Data Science 2.o\"\n",
        "print(in_string[9],in_string[10],in_string[2]) # Positive Indexing\n",
        "print(in_string[-1],in_string[-5],in_string[-2]) # Negative Indexing"
      ],
      "metadata": {
        "colab": {
          "base_uri": "https://localhost:8080/"
        },
        "id": "3RnhiXhavTnF",
        "outputId": "5570e38b-b36d-43f1-bfbe-d988ccf921a0"
      },
      "execution_count": 2,
      "outputs": [
        {
          "output_type": "stream",
          "name": "stdout",
          "text": [
            "u l e\n",
            "e i c\n"
          ]
        }
      ]
    },
    {
      "cell_type": "code",
      "source": [
        "Q4. What is the relationship between indexing and slicing?\n",
        "Ans: We can access elements of sequence datatypes by using slicing and indexing. Indexing is used to obtaining individual element while slicing for sequence of elements."
      ],
      "metadata": {
        "id": "SJCRTc9RvYbu"
      },
      "execution_count": null,
      "outputs": []
    },
    {
      "cell_type": "code",
      "source": [
        "in_string = \"iNeuron Full Stack Data Science 2.o\"\n",
        "print(in_string[1],in_string[3],in_string[5]) # Indexing\n",
        "print(in_string[1:15]) # Slicing"
      ],
      "metadata": {
        "colab": {
          "base_uri": "https://localhost:8080/"
        },
        "id": "1h_ZKtd2vcI9",
        "outputId": "2232550c-456f-45cc-a834-ec18467d6fc3"
      },
      "execution_count": 6,
      "outputs": [
        {
          "output_type": "stream",
          "name": "stdout",
          "text": [
            "N u o\n",
            "Neuron Full St\n"
          ]
        }
      ]
    },
    {
      "cell_type": "code",
      "source": [
        "Q5. What is an indexed character's exact data type? What is the data form of a slicing-generated substring?\n",
        "Ans: Indexed characters and sliced substrings have datatype String."
      ],
      "metadata": {
        "id": "8d91aWitvgNm"
      },
      "execution_count": null,
      "outputs": []
    },
    {
      "cell_type": "code",
      "source": [
        "in_string = \"iNeuron Full Stack Data Science 2.o\"\n",
        "print(type(in_string[3])) # Indexing -> str\n",
        "print(type(in_string[1:10])) # Indexing -> str"
      ],
      "metadata": {
        "colab": {
          "base_uri": "https://localhost:8080/"
        },
        "id": "_vOP7KFbvj-N",
        "outputId": "ec76356c-fedb-4198-d45c-033963157bff"
      },
      "execution_count": 7,
      "outputs": [
        {
          "output_type": "stream",
          "name": "stdout",
          "text": [
            "<class 'str'>\n",
            "<class 'str'>\n"
          ]
        }
      ]
    },
    {
      "cell_type": "code",
      "source": [
        "Q6. What is the relationship between string and character \"types\" in Python?\n",
        "Ans: Object that contains sequence of character datatypes are called String.\n"
      ],
      "metadata": {
        "id": "4ZybD1PzvngW"
      },
      "execution_count": null,
      "outputs": []
    },
    {
      "cell_type": "code",
      "source": [
        "Q7. Identify at least two operators & one method that allow you to combine one or more smaller strings to create a larger string ?\n",
        "Ans: +, += and * allow to combine one or more smaller strings to create a larger string. <string>.join(<sep>) method joins element of iterable type like list and tuple to get a combined string."
      ],
      "metadata": {
        "id": "AwfeELqdvts8"
      },
      "execution_count": null,
      "outputs": []
    },
    {
      "cell_type": "code",
      "source": [
        "in_string = 'iNeuron '\n",
        "in_string += 'Full Stack Data Science 2.o'\n",
        "print(in_string + ' FSDS')\n",
        "print('FSDS '*3)\n",
        "print(\" \".join(['I','N','E','U','R','O','N'])) # List Iterable\n",
        "print(\" \".join(('I','N','E','U','R','O','N')).lower()) # Tuple Iterable"
      ],
      "metadata": {
        "colab": {
          "base_uri": "https://localhost:8080/"
        },
        "id": "ta7PsWWEvx8u",
        "outputId": "e912550e-c50b-4f64-a2be-02051156d2e3"
      },
      "execution_count": 8,
      "outputs": [
        {
          "output_type": "stream",
          "name": "stdout",
          "text": [
            "iNeuron Full Stack Data Science 2.o FSDS\n",
            "FSDS FSDS FSDS \n",
            "I N E U R O N\n",
            "i n e u r o n\n"
          ]
        }
      ]
    },
    {
      "cell_type": "code",
      "source": [
        "Q8. What is the benefit of first checking the target string with in or not in before using the index method to find a substring ?\n",
        "Ans: Checking the target string with in or not Operators before using the index method to find a substring just helps confirming availability of substring and thus avoid raising of ValueError.\n",
        "Example:\n",
        "in_string = \"ineuron\"\n",
        "in_string.index('x') # Raises ValueError\n",
        "in_string.index('u') # 3"
      ],
      "metadata": {
        "id": "CGZP_HJFv2LF"
      },
      "execution_count": null,
      "outputs": []
    },
    {
      "cell_type": "code",
      "source": [
        "Q9. Which operators and built-in string methods produce simple Boolean (true/false) results?\n",
        "Ans: The String Operators and built-in methods to Produce Simple Boolean (True/False) Results are:\n",
        "\n",
        "in\n",
        "not\n",
        "<string>.isalpha()\n",
        "<string>.isalnum()\n",
        "<string>.isdecimal()\n",
        "<string>.isdigit()\n",
        "<string>.islower()\n",
        "<string>.isnumeric()\n",
        "<string>.isprintable()\n",
        "<string>.isspace()\n",
        "<string>.istitle()"
      ],
      "metadata": {
        "id": "OV-NDLZSv6a1"
      },
      "execution_count": null,
      "outputs": []
    }
  ]
}