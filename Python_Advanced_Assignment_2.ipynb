{
  "nbformat": 4,
  "nbformat_minor": 0,
  "metadata": {
    "colab": {
      "provenance": []
    },
    "kernelspec": {
      "name": "python3",
      "display_name": "Python 3"
    },
    "language_info": {
      "name": "python"
    }
  },
  "cells": [
    {
      "cell_type": "code",
      "execution_count": null,
      "metadata": {
        "id": "6oD8UY2KaEcd"
      },
      "outputs": [],
      "source": [
        "Q1. What is the relationship between classes and modules?\n",
        "\n",
        "Ans: A Python class is like an outline/blueprint/mold for creating a new object. An object is anything that you wish to manipulate or change while working through the code.\n",
        "Every time a class object is instantiated, which is when we declare a variable, a new object is initiated from scratch\n",
        "Whereas in Python, Modules are simply files with the . py extension containing Python code that can be imported inside another Python Program.\n",
        "In simple terms, we can consider a module to be the same as a code library or a file that contains a set of functions/Classes that you want to include in your application."
      ]
    },
    {
      "cell_type": "code",
      "source": [
        "Q2. How do you make instances and classes?\n",
        "\n",
        "Ans: For creating a class instance. we call a class by its name and pass the arguments which its __init__ method accepts.\n",
        "\n",
        "Example: vishwak = employee('Male',20000), Here vishwak is an instance of class employee with attriubutes 'Male' and 20000.\n",
        "\n",
        "Whereas for creating a class, we use the Class keyword. Class keyword is followed by classname and semicolon.\n",
        "\n",
        "Example: Here Employee is a class created with class keyword with arguments gender and salary.\n",
        "\n",
        "class Employee:     def __init__(self, gender,salary):         self.gender = gender         self.salary = salary"
      ],
      "metadata": {
        "id": "jrQsbmG_ahK-"
      },
      "execution_count": null,
      "outputs": []
    },
    {
      "cell_type": "code",
      "source": [
        "Q3. Where and how should be class attributes created?\n",
        "\n",
        "Ans: Class attributes or Class level Attributes belong to the class itself. these attributes will be shared by all the instances of the class.\n",
        "Hence these attributes are usually created/defined in the top of class definiation outside all methods.\n",
        "Example: In the below code we are defining a class attribute called no_of_wheels which will be shared by all the instances of the class Car\n",
        "class Car:     no_of_wheels = 4; # this is a class attribute     def __init__(self,color,price,engine):\n",
        "self.color = color # All this are instance attributes         self.price = price         self.engine = engine"
      ],
      "metadata": {
        "id": "lstL9WylaozG"
      },
      "execution_count": null,
      "outputs": []
    },
    {
      "cell_type": "code",
      "source": [
        "Q4. Where and how are instance attributes created?\n",
        "\n",
        "Ans: Instances attributes are passed to the class when an object of the class is created. Unlike class attributes, instance attributes are not shared by all objects of the classs.\n",
        "instead each object maintains its own copy of instance attributes at object level. whereas incase of class attributes all instances of class refer to a single copy.\n",
        "Usually instance attributes are defined within the __init__ method of class\n",
        "Example: In the below sample code we are creating a class Car with instance varaibles color, price, engine, which will be provided when an instance of class Car is created.\n",
        "class Car:     def __init__(self,color,price,engine):         self.color = color # All this are instance attributes         self.price = price\n",
        "self.engine = engine nexon_ev = Car('Indigo Blue', 1400000, 'electric')\n",
        "safari = Car('Pearl White',2100000, 'petrol')\n",
        "nexon_ev, safari are both the instances of class Car with different instance variables."
      ],
      "metadata": {
        "id": "JxBeb8x1a1ZX"
      },
      "execution_count": null,
      "outputs": []
    },
    {
      "cell_type": "code",
      "source": [
        "Q5. What does the term \"self\" in a Python class mean?\n",
        "\n",
        "Ans: self represents the instance of the class (it represents the object itself). By using the “self” keyword we can access the attributes and methods of the class with in the class in python.\n",
        "It binds the attributes with the given arguments."
      ],
      "metadata": {
        "id": "hgq9Wo2rbGZ2"
      },
      "execution_count": null,
      "outputs": []
    },
    {
      "cell_type": "code",
      "source": [
        "class Car:\n",
        "    def __init__(self,color,price,engine):\n",
        "        self.color = color # All this are instance attributes\n",
        "        self.price = price\n",
        "        self.engine = engine\n",
        "\n",
        "nexon_ev = Car('Indigo Blue', 1400000, 'electric')\n",
        "safari = Car('Pearl White',2100000, 'petrol')\n",
        "\n",
        "print(nexon_ev.__dict__)\n",
        "print(safari.__dict__)"
      ],
      "metadata": {
        "colab": {
          "base_uri": "https://localhost:8080/"
        },
        "id": "olCH4U27bRB-",
        "outputId": "2197633c-d2d3-48c9-e5d5-2020306549e8"
      },
      "execution_count": 1,
      "outputs": [
        {
          "output_type": "stream",
          "name": "stdout",
          "text": [
            "{'color': 'Indigo Blue', 'price': 1400000, 'engine': 'electric'}\n",
            "{'color': 'Pearl White', 'price': 2100000, 'engine': 'petrol'}\n"
          ]
        }
      ]
    },
    {
      "cell_type": "code",
      "source": [
        "Q6. How does a Python class handle operator overloading?\n",
        "\n",
        "Ans: Python Classes handle operator overloading by using special methods called Magic methods. these special methods usually begin and end with __ (double underscore)\n",
        "Example: Magic methods for basic arithmetic operators are:\n",
        "\n",
        "+ -> __add__()\n",
        "- -> __sub__()\n",
        "* -> __mul__()\n",
        "/ -> __div__()"
      ],
      "metadata": {
        "id": "ytlYepIgbWDA"
      },
      "execution_count": null,
      "outputs": []
    },
    {
      "cell_type": "code",
      "source": [
        "class Book:\n",
        "    def __init__(self,pages):\n",
        "        self.pages = pages\n",
        "    def __add__(self,other):\n",
        "        return self.pages + other.pages\n",
        "b1 = Book(100)\n",
        "b2 = Book(200)\n",
        "print(f'The total number of pages in 2 books is {b1+b2}')"
      ],
      "metadata": {
        "colab": {
          "base_uri": "https://localhost:8080/"
        },
        "id": "H7YxQhMcbfBu",
        "outputId": "43f43670-1880-4fd2-820b-567ce11d23e5"
      },
      "execution_count": 2,
      "outputs": [
        {
          "output_type": "stream",
          "name": "stdout",
          "text": [
            "The total number of pages in 2 books is 300\n"
          ]
        }
      ]
    },
    {
      "cell_type": "code",
      "source": [
        "Q7. When do you consider allowing operator overloading of your classes?\n",
        "\n",
        "Ans: When we want to have different meaning for the same operator accroding to the context we use operator overloading."
      ],
      "metadata": {
        "id": "Ni3jPs4jbgo2"
      },
      "execution_count": null,
      "outputs": []
    },
    {
      "cell_type": "code",
      "source": [
        "Q8. What is the most popular form of operator overloading?\n",
        "Ans: The most popular form of operator overloading in python is by special methods called Magic methods. Which usually beign and end with double underscore __<method name>__."
      ],
      "metadata": {
        "id": "r8Oqsuw-blWW"
      },
      "execution_count": null,
      "outputs": []
    },
    {
      "cell_type": "code",
      "source": [
        "class A:\n",
        "    def __init__(self,a):\n",
        "        self.a = a\n",
        "    def __add__(self,o):\n",
        "        return self.a+o.a\n",
        "obj1 = A(1)\n",
        "obj2 = A(2)\n",
        "obj3 = A('Mano')\n",
        "obj4 = A(' Vishnu')\n",
        "print(f'Sum -> {obj1+obj2}')\n",
        "print(f'String Concatenation -> {obj3+obj4}')"
      ],
      "metadata": {
        "colab": {
          "base_uri": "https://localhost:8080/"
        },
        "id": "y8O5_IXUboVK",
        "outputId": "a8a13a1a-bada-4928-cc49-6481ae369669"
      },
      "execution_count": 3,
      "outputs": [
        {
          "output_type": "stream",
          "name": "stdout",
          "text": [
            "Sum -> 3\n",
            "String Concatenation -> Mano Vishnu\n"
          ]
        }
      ]
    },
    {
      "cell_type": "code",
      "source": [
        "Q9. What are the two most important concepts to grasp in order to comprehend Python OOP code?\n",
        "Ans: Classes and objects are the two concepts to comprehend python OOP code as more formally objects are entities that represent instances of general abstract concept called class\n",
        "\n",
        "Along with classes and objects the important concepts to grasp are:\n",
        "\n",
        "Inheritence\n",
        "Abstraction\n",
        "Polymorphism\n",
        "Encapsulation"
      ],
      "metadata": {
        "id": "ukffM5K2bsJW"
      },
      "execution_count": null,
      "outputs": []
    }
  ]
}