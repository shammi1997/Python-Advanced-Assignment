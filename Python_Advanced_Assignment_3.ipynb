{
  "nbformat": 4,
  "nbformat_minor": 0,
  "metadata": {
    "colab": {
      "provenance": []
    },
    "kernelspec": {
      "name": "python3",
      "display_name": "Python 3"
    },
    "language_info": {
      "name": "python"
    }
  },
  "cells": [
    {
      "cell_type": "code",
      "execution_count": null,
      "metadata": {
        "id": "wfDRO1r9b-PL"
      },
      "outputs": [],
      "source": [
        "1. What is the concept of an abstract superclass?\n",
        "\n",
        "Ans: An abstract class/superclass can be considered as a blueprint for other classes. It allows you to create a set of methods that must be created within any child classes built from the abstract class. A class which contains one or more abstract methods is called an abstract class.\n",
        "\n",
        "Whereas an abstract method is a method that has a declaration but does not have an implementation"
      ]
    },
    {
      "cell_type": "code",
      "source": [
        "from abc import ABC, abstractmethod\n",
        "class Polygon(ABC): # Abstract Class\n",
        "    @abstractmethod\n",
        "    def noofsides(self): # Abstract Method\n",
        "        pass\n",
        "class Triangle(Polygon):\n",
        "    def noofsides(self):  # overriding abstract method in child class Triangle\n",
        "        print(\"I have 3 sides\")\n",
        "class Pentagon(Polygon):\n",
        "    def noofsides(self): # overriding abstract method in child class Pentagon\n",
        "        print(\"I have 5 sides\")\n"
      ],
      "metadata": {
        "id": "n9M4IyYqcNse"
      },
      "execution_count": 1,
      "outputs": []
    },
    {
      "cell_type": "code",
      "source": [
        "2. What happens when a class statement's top level contains a basic assignment statement?\n",
        "Ans: When a Class statement's top level contains a basic assignment statement, its usually treated as a class attribute or class level variable.\n",
        "\n",
        "where as assignment statements inside methods are treated as instance attributes or local attributes.\n",
        "\n",
        "When an instance of a class is created a single copy of class attributes is maintained and shared to all instances of class. where as each instance object maintains its own copy of instance variables."
      ],
      "metadata": {
        "id": "kO7rq3gvcQ5O"
      },
      "execution_count": null,
      "outputs": []
    },
    {
      "cell_type": "code",
      "source": [
        "class Person:\n",
        "    species = 'Homesapiens' # class attribute\n",
        "    def __init__(self,name,gender):\n",
        "        self.name = name # instance attributes\n",
        "        self.gender = gender"
      ],
      "metadata": {
        "id": "HrydjTqOcWZ-"
      },
      "execution_count": 2,
      "outputs": []
    },
    {
      "cell_type": "code",
      "source": [
        "3. Why does a class need to manually call a superclass's init method?\n",
        "\n",
        "Ans: if a child class has __init__ method, then it will not inherit the __init__ method of the parent class.\n",
        " in other words the __init__ method of the child class overrides the __init__ method of the parent class.\n",
        " so we have to manually call a parent superclass's __init__ using super() method"
      ],
      "metadata": {
        "id": "DaLkX0m4cZT-"
      },
      "execution_count": null,
      "outputs": []
    },
    {
      "cell_type": "code",
      "source": [
        "class Person:\n",
        "    def __init__(self,name,age):\n",
        "        self.name = name\n",
        "        self.age = age\n",
        "class Employee(Person):\n",
        "    def __init__(self,name,age,salary):\n",
        "        super().__init__(name,age)\n",
        "        self.salary = salary\n",
        "emp_1 = Employee('Vivek',28,20000)\n",
        "print(emp_1.__dict__)"
      ],
      "metadata": {
        "colab": {
          "base_uri": "https://localhost:8080/"
        },
        "id": "ELYLxAMXcgdm",
        "outputId": "e22dac89-e5e0-460b-9314-2ea5ca15d162"
      },
      "execution_count": 3,
      "outputs": [
        {
          "output_type": "stream",
          "name": "stdout",
          "text": [
            "{'name': 'Vivek', 'age': 28, 'salary': 20000}\n"
          ]
        }
      ]
    },
    {
      "cell_type": "code",
      "source": [
        "4. How can you augment, instead of completely replacing, an inherited method?\n",
        "\n",
        "Ans: super() method can be used to augment, instead of completely replacing, an inherited method."
      ],
      "metadata": {
        "id": "ewtALtICckU-"
      },
      "execution_count": null,
      "outputs": []
    },
    {
      "cell_type": "code",
      "source": [
        "class Person:\n",
        "    def __init__(self,name,gender):\n",
        "        self.name = name\n",
        "        self.gender = gender\n",
        "class Employee(Person):\n",
        "    def __init__(self,name,gender,salary):\n",
        "        super().__init__(name,gender)\n",
        "        self.salary = salary\n",
        "emp_1 = Employee('Vivek','Male',10000)\n",
        "print(emp_1.__dict__)"
      ],
      "metadata": {
        "colab": {
          "base_uri": "https://localhost:8080/"
        },
        "id": "6-6xIVE-crwH",
        "outputId": "d1c7484e-b99b-4835-fd31-b744fc86c2ad"
      },
      "execution_count": 4,
      "outputs": [
        {
          "output_type": "stream",
          "name": "stdout",
          "text": [
            "{'name': 'Vivek', 'gender': 'Male', 'salary': 10000}\n"
          ]
        }
      ]
    },
    {
      "cell_type": "code",
      "source": [
        "5. How is the local scope of a class different from that of a function?\n",
        "\n",
        "Ans: A Variable which is defined inside a function is local to that function. it is accesible from the point at which it is defined until the end of the function, and exists for as long as the function is existing.\n",
        "\n",
        "Similary a variable inside of a class also has a local variable scope. Variables which are defined in the class body (but outside all methods) are called as class level variables or class attributes. they can be referenced by there bare names within the same scope, but they can also be accessed from outside this scope if we use the attribute access operator (.). on a class or an instance of the class."
      ],
      "metadata": {
        "id": "dQ6neD60cvNX"
      },
      "execution_count": null,
      "outputs": []
    },
    {
      "cell_type": "code",
      "source": [
        "def hello(name):\n",
        "    name = name\n",
        "    print(f'you\\'re name is {name}')\n",
        "hello('Mano Vishnu')\n",
        "try:\n",
        "    name\n",
        "except NameError:\n",
        "    print('Name varible is not available outside hello function scope')\n",
        "\n",
        "class Person:\n",
        "    species = \"HomeSapines\"\n",
        "    def __init__(self):\n",
        "        pass\n",
        "print(Person.species) # Accessing species using class name\n",
        "Male = Person()\n",
        "print(Male.species) # Accessing species using instance of class"
      ],
      "metadata": {
        "colab": {
          "base_uri": "https://localhost:8080/"
        },
        "id": "PrZWX9msc08n",
        "outputId": "15acf91f-08e3-4c17-93ce-5e6aac971f11"
      },
      "execution_count": 5,
      "outputs": [
        {
          "output_type": "stream",
          "name": "stdout",
          "text": [
            "you're name is Mano Vishnu\n",
            "Name varible is not available outside hello function scope\n",
            "HomeSapines\n",
            "HomeSapines\n"
          ]
        }
      ]
    }
  ]
}