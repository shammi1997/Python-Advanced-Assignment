{
  "nbformat": 4,
  "nbformat_minor": 0,
  "metadata": {
    "colab": {
      "provenance": []
    },
    "kernelspec": {
      "name": "python3",
      "display_name": "Python 3"
    },
    "language_info": {
      "name": "python"
    }
  },
  "cells": [
    {
      "cell_type": "code",
      "execution_count": null,
      "metadata": {
        "id": "6Ta7m50ff4kS"
      },
      "outputs": [],
      "source": [
        "Q1. What is the purpose of the try statement?\n",
        "Ans: try statement is used for exception handling in python. it consists of a block of risky statements which might cause an exception during runtime.\n",
        " if code within try block raises exception, then the exception will be reverted to the corresponding except block if multiple except blocks are present,\n",
        " else it willbe reverted to the default except block. In short try and except in union avoid programs from crashing during runtime due to exceptions."
      ]
    },
    {
      "cell_type": "code",
      "source": [
        "try:\n",
        "    print(10/0)\n",
        "except ZeroDivisionError:\n",
        "    print('Division by Zero is Not Possible')"
      ],
      "metadata": {
        "colab": {
          "base_uri": "https://localhost:8080/"
        },
        "id": "XumPMID_gHXh",
        "outputId": "a85bbef5-0ae6-4902-85dd-82a638d8cac1"
      },
      "execution_count": 1,
      "outputs": [
        {
          "output_type": "stream",
          "name": "stdout",
          "text": [
            "Division by Zero is Not Possible\n"
          ]
        }
      ]
    },
    {
      "cell_type": "code",
      "source": [
        "Q2. What are the two most popular try statement variations?\n",
        "Ans: The Popular try statement variations are:\n",
        "\n",
        "try,except\n",
        "try,except,finally\n",
        "try,except,finally,else\n",
        "The try block is used to check code for exceptions during runtime. ie code inside try block will execute completely when there is no error in the program. Whereas the code inside except block will execute whenever the program encounters some error in the preceeding try block.\n",
        "\n",
        "Whereas the code enters the else block if and only if the try clause does not raise and exception. The code in the finally block will execute irrespective of exception."
      ],
      "metadata": {
        "id": "WRPnRxnAgLZX"
      },
      "execution_count": null,
      "outputs": []
    },
    {
      "cell_type": "code",
      "source": [
        "Q3. What is the purpose of the raise statement?\n",
        "Ans: raise statement is used to trigger an exception explicitly, if a certain condition is not as per requirement of programmer.\n",
        " raise statement helps in triggering exception as per programming logic."
      ],
      "metadata": {
        "id": "33zn1ve6gPZG"
      },
      "execution_count": null,
      "outputs": []
    },
    {
      "cell_type": "code",
      "source": [
        "Q4. What does the assert statement do, and what other statement is it like?\n",
        "Ans: There are few assertions that programmer always want to be true to avoid code failure. This type of requirement is fulfilled by assert statement.\n",
        "This statement takes a boolean condition output of which is True, Further Program Executes.\n",
        "if output of assert statement is False, it raises an Assertion Error."
      ],
      "metadata": {
        "id": "7FI79_FxgTyu"
      },
      "execution_count": null,
      "outputs": []
    },
    {
      "cell_type": "code",
      "source": [
        "assert(2 == 4), f'this is not a valid statement'"
      ],
      "metadata": {
        "colab": {
          "base_uri": "https://localhost:8080/",
          "height": 141
        },
        "id": "RzKF3O1dgeZe",
        "outputId": "326abfe8-04f6-41a6-b139-50e21c3312b3"
      },
      "execution_count": 2,
      "outputs": [
        {
          "output_type": "error",
          "ename": "AssertionError",
          "evalue": "this is not a valid statement",
          "traceback": [
            "\u001b[0;31m---------------------------------------------------------------------------\u001b[0m",
            "\u001b[0;31mAssertionError\u001b[0m                            Traceback (most recent call last)",
            "\u001b[0;32m<ipython-input-2-b7228a17c25c>\u001b[0m in \u001b[0;36m<cell line: 1>\u001b[0;34m()\u001b[0m\n\u001b[0;32m----> 1\u001b[0;31m \u001b[0;32massert\u001b[0m\u001b[0;34m(\u001b[0m\u001b[0;36m2\u001b[0m \u001b[0;34m==\u001b[0m \u001b[0;36m4\u001b[0m\u001b[0;34m)\u001b[0m\u001b[0;34m,\u001b[0m \u001b[0;34mf'this is not a valid statement'\u001b[0m\u001b[0;34m\u001b[0m\u001b[0;34m\u001b[0m\u001b[0m\n\u001b[0m",
            "\u001b[0;31mAssertionError\u001b[0m: this is not a valid statement"
          ]
        }
      ]
    },
    {
      "cell_type": "code",
      "source": [
        "Q5. What is the purpose of the with/as argument, and what other statement is it like?\n",
        "Ans: with/as statement simplifies use of file handling in python. When we use a with statement for file reading, there is no need for programmer to explicitly takecare of activities like resource deallocation and file closing by using file.close() method. with statement itself ensures proper acquisition and release of resources. this avoids triggering of exceptions if file closing is unknowingly forgotten in the code execution.\n",
        "\n",
        "with open('sample_file.txt','w') as file:     file.write('Hello World')"
      ],
      "metadata": {
        "id": "0OhVptNGgfgn"
      },
      "execution_count": null,
      "outputs": []
    }
  ]
}